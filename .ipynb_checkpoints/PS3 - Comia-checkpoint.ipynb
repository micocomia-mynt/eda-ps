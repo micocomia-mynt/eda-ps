{
 "cells": [
  {
   "cell_type": "markdown",
   "metadata": {},
   "source": [
    "# Problem Set 3 CS129.18\n",
    "\n",
    "The following problem set will revolve around the Enron Emails dataset.\n",
    "The dataset `data/enron-data/` directory has 6 files. The objective is to build a classifier for whether email is spam or not.\n"
   ]
  },
  {
   "cell_type": "markdown",
   "metadata": {},
   "source": [
    "## Requirements\n",
    "\n",
    "\n",
    ">Spam or Ham?\n",
    "\n",
    "Using the lessons on Naive Bayes and TF-IDF, and the other resource notebooks, show the following in this Jupyter Notebook.\n",
    "\n",
    "Write your answers down as Markdown cells or comments in the code.\n",
    "\n",
    "**Using Enron 1 and 2**\n",
    "\n",
    "1. How many Spam Emails are there? ( 1 pt )\n",
    "\n",
    "2. Structure the email data from the 2 directories into 1 dataframe with columns: Status, Subject, Body ( 7 pts )\n",
    "\n",
    "3. Build a Naive Bayes classifier to classify whether emails are spam or not. ( 3 pts )\n",
    "\n",
    "4. What is the longest ham email? ( 1 pt )\n",
    "\n",
    "5. What is the accuracy of your model?( 1 pt )\n",
    "\n",
    "6. Include the Subject in the analysis of the emails, does the accuracy/performance of the model increase? (7 pts)\n",
    "\n",
    "\n",
    "\n",
    "-----\n",
    "\n",
    "\n",
    "Bonus : Answer questions 1-6 using Enron 1,2, and 3. (5 pts)\n",
    "\n",
    "----\n",
    "\n",
    "**Submit this file on Moodle on the submission link I will provide. This is due October 18 12nn.**"
   ]
  },
  {
   "cell_type": "code",
   "execution_count": 1,
   "metadata": {},
   "outputs": [],
   "source": [
    "%matplotlib inline\n",
    "\n",
    "import matplotlib.pylab as plt\n",
    "import numpy as np\n",
    "import pandas as pd\n",
    "import os\n",
    "import random\n",
    "from sklearn.feature_extraction.text import TfidfVectorizer\n",
    "from sklearn.feature_extraction.text import CountVectorizer\n",
    "from sklearn.naive_bayes import GaussianNB\n",
    "from sklearn.model_selection import train_test_split, cross_val_score"
   ]
  },
  {
   "cell_type": "code",
   "execution_count": 2,
   "metadata": {},
   "outputs": [],
   "source": [
    "def store_in_list(rootdir, ham_list, spam_list):\n",
    "    # Same as before, but this time, read the files, and append them to the ham and spam list\n",
    "    for directories, subdirs, files in os.walk(rootdir):\n",
    "        if (os.path.split(directories)[1]  == 'ham'):\n",
    "            for filename in files:      \n",
    "                with open(os.path.join(directories, filename), encoding=\"latin-1\") as f:\n",
    "                    data = f.read()\n",
    "                    ham_list.append(data)\n",
    "\n",
    "        if (os.path.split(directories)[1]  == 'spam'):\n",
    "            for filename in files:\n",
    "                with open(os.path.join(directories, filename), encoding=\"latin-1\") as f:\n",
    "                    data = f.read()\n",
    "                    spam_list.append(data)\n",
    "                    \n",
    "    return"
   ]
  },
  {
   "cell_type": "code",
   "execution_count": 3,
   "metadata": {},
   "outputs": [
    {
     "name": "stdout",
     "output_type": "stream",
     "text": [
      "data/enron-data/enron1 ['spam', 'ham'] 2\n",
      "data/enron-data/enron1/spam [] 1499\n",
      "data/enron-data/enron1/ham ['.ipynb_checkpoints'] 3672\n",
      "data/enron-data/enron1/ham/.ipynb_checkpoints [] 9\n",
      "data/enron-data/enron2 ['spam', 'ham'] 1\n",
      "data/enron-data/enron2/spam ['.ipynb_checkpoints'] 1494\n",
      "data/enron-data/enron2/spam/.ipynb_checkpoints [] 8\n",
      "data/enron-data/enron2/ham [] 4361\n"
     ]
    }
   ],
   "source": [
    "rootdir_1 = \"data/enron-data/enron1\"\n",
    "rootdir_2 = \"data/enron-data/enron2\"\n",
    "\n",
    "# Loop through all the directories, sub directories and files in the above folder, and print them.\n",
    "for directories, subdirs, files in os.walk(rootdir_1):\n",
    "    print(directories, subdirs, len(files))\n",
    "    \n",
    "for directories, subdirs, files in os.walk(rootdir_2):\n",
    "    print(directories, subdirs, len(files))"
   ]
  },
  {
   "cell_type": "code",
   "execution_count": 4,
   "metadata": {},
   "outputs": [],
   "source": [
    "ham_list = []\n",
    "spam_list = []\n",
    "\n",
    "# Store data into ham and spam lists\n",
    "store_in_list(rootdir_1, ham_list, spam_list)\n",
    "store_in_list(rootdir_2, ham_list, spam_list)"
   ]
  },
  {
   "cell_type": "code",
   "execution_count": 5,
   "metadata": {},
   "outputs": [
    {
     "name": "stdout",
     "output_type": "stream",
     "text": [
      "Subject: ena sales on hpl\n",
      "just to update you on this project ' s status :\n",
      "based on a new report that scott mills ran for me from sitara , i have come up\n",
      "with the following counterparties as the ones to which ena is selling gas off\n",
      "of hpl ' s pipe .\n",
      "altrade transaction , l . l . c . gulf gas utilities company\n",
      "brazoria , city of panther pipeline , inc .\n",
      "central illinois light company praxair , inc .\n",
      "central power and light company reliant energy - entex\n",
      "ces - equistar chemicals , lp reliant energy - hl & p\n",
      "corpus christi gas marketing , lp southern union company\n",
      "d & h gas company , inc . texas utilities fuel company\n",
      "duke energy field services , inc . txu gas distribution\n",
      "entex gas marketing company union carbide corporation\n",
      "equistar chemicals , lp unit gas transmission company inc .\n",
      "since i ' m not sure exactly what gets entered into sitara , pat clynes\n",
      "suggested that i check with daren farmer to make sure that i ' m not missing\n",
      "something ( which i did below ) . while i am waiting for a response from him\n",
      "and / or mary smith , i will begin gathering the contractual volumes under the\n",
      "above contracts .\n",
      "- - - - - - - - - - - - - - - - - - - - - - forwarded by cheryl dudley / hou / ect on 05 / 10 / 2000 07 : 56\n",
      "am - - - - - - - - - - - - - - - - - - - - - - - - - - -\n",
      "cheryl d king\n",
      "05 / 08 / 2000 04 : 11 pm\n",
      "sent by : cheryl dudley\n",
      "to : daren j farmer / hou / ect @ ect , mary m smith / hou / ect @ ect\n",
      "cc :\n",
      "subject : ena sales on hpl\n",
      "i am working on a project for brenda herod & was wondering if one of you\n",
      "could tell me if i ' m on the right track & if this will get everything for\n",
      "which she is looking .\n",
      "she is trying to draft a long - term transport / storage agreement between ena &\n",
      "hplc which will allow ena to move the gas to their markets . in order to\n",
      "accomplish this , she needs to know all of the sales to customers that ena is\n",
      "doing off of hpl ' s pipe .\n",
      "i had scott mills run a report from sitara showing all ena buy / sell activity\n",
      "on hpl since 7 / 99 . if i eliminate the buys & the desk - to - desk deals , will\n",
      "this give me everything that i need ?\n",
      "are there buy / sell deals done with ena on hpl ' s pipe that wouldn ' t show up in\n",
      "sitara ? someone mentioned something about deals where hpl transports the gas\n",
      "on it ' s own behalf then ena sells it to a customer at that same spot - -\n",
      "? ? ? ? ? do deals like that happen ? would they show up in sitara ?\n",
      "is there anything else that i ' m missing ? i ' m not real familiar with how some\n",
      "of these deals happen nowadays so am very receptive to any\n",
      "ideas / suggestions / help that you can offer ! ! !\n",
      "thanks in advance .\n",
      "Subject: what up , , your cam babe\n",
      "what are you looking for ?\n",
      "if your looking for a companion for friendship , love , a date , or just good ole '\n",
      "fashioned * * * * * * , then try our brand new site ; it was developed and created\n",
      "to help anyone find what they ' re looking for . a quick bio form and you ' re\n",
      "on the road to satisfaction in every sense of the word . . . . no matter what\n",
      "that may be !\n",
      "try it out and youll be amazed .\n",
      "have a terrific time this evening\n",
      "copy and pa ste the add . ress you see on the line below into your browser to come to the site .\n",
      "http : / / www . meganbang . biz / bld / acc /\n",
      "no more plz\n",
      "http : / / www . naturalgolden . com / retract /\n",
      "counterattack aitken step preemptive shoehorn scaup . electrocardiograph movie honeycomb . monster war brandywine pietism byrne catatonia . encomia lookup intervenor skeleton turn catfish .\n",
      "\n"
     ]
    }
   ],
   "source": [
    "print(ham_list[0])\n",
    "print(spam_list[0])"
   ]
  },
  {
   "cell_type": "markdown",
   "metadata": {},
   "source": [
    "#### 1. How many Spam Emails are there? ( 1 pt )\n",
    "---"
   ]
  },
  {
   "cell_type": "code",
   "execution_count": 6,
   "metadata": {},
   "outputs": [
    {
     "data": {
      "text/plain": [
       "2993"
      ]
     },
     "execution_count": 6,
     "metadata": {},
     "output_type": "execute_result"
    }
   ],
   "source": [
    "len(spam_list) # In total, there are 2993 spam emails in Enron 1 and 2"
   ]
  },
  {
   "cell_type": "markdown",
   "metadata": {},
   "source": [
    "#### 2. Structure the email data from the 2 directories into 1 dataframe with columns: Status, Subject, Body ( 7 pts )\n",
    "---"
   ]
  },
  {
   "cell_type": "code",
   "execution_count": 7,
   "metadata": {},
   "outputs": [],
   "source": [
    "def subject_thread(email):\n",
    "    count = 0\n",
    "\n",
    "    for line in email:\n",
    "        line = line.lower()\n",
    "        \n",
    "        # Check if line contains the keyword 'Subject:'\n",
    "        if 'subject: ' in line:\n",
    "            subject = line[len('subject: '):]\n",
    "            count += 1\n",
    "        elif 'subject : ' in line and subject in line:\n",
    "            count += 1\n",
    "         \n",
    "    # If there are multiple instances of subject, email has a thread\n",
    "    if count > 1:\n",
    "        return subject, True\n",
    "    else:\n",
    "        return subject, False"
   ]
  },
  {
   "cell_type": "code",
   "execution_count": 8,
   "metadata": {},
   "outputs": [],
   "source": [
    "def get_body(email):\n",
    "    body = \"\"\n",
    "    for line in email:\n",
    "        line = line.lower()\n",
    "        \n",
    "        # Check if line does not contain keyword 'Subject:'\n",
    "        if 'subject: ' not in line:\n",
    "            body = f'{body} {line}'\n",
    "    return body   "
   ]
  },
  {
   "cell_type": "code",
   "execution_count": 9,
   "metadata": {},
   "outputs": [],
   "source": [
    "def split_list(email_list, status, data_list):\n",
    "    for email in email_list:\n",
    "        row = []\n",
    "        # Split email by line\n",
    "        email = email.splitlines()\n",
    "\n",
    "        # Get the subject and the ~body of the email\n",
    "        subject, isThread = subject_thread(email)\n",
    "        body = get_body(email)\n",
    "        \n",
    "        # Append to list acting as row\n",
    "        row.append(status)\n",
    "        row.append(subject)\n",
    "        row.append(body)\n",
    "        row.append(isThread)\n",
    "        \n",
    "        # Append to list that will be converted to a df\n",
    "        data_list.append(row)\n",
    "        \n",
    "    return"
   ]
  },
  {
   "cell_type": "code",
   "execution_count": 10,
   "metadata": {},
   "outputs": [],
   "source": [
    "data_list = []\n",
    "\n",
    "split_list(ham_list, 'ham', data_list)\n",
    "split_list(spam_list, 'spam', data_list)"
   ]
  },
  {
   "cell_type": "code",
   "execution_count": 11,
   "metadata": {},
   "outputs": [
    {
     "data": {
      "text/html": [
       "<div>\n",
       "<style scoped>\n",
       "    .dataframe tbody tr th:only-of-type {\n",
       "        vertical-align: middle;\n",
       "    }\n",
       "\n",
       "    .dataframe tbody tr th {\n",
       "        vertical-align: top;\n",
       "    }\n",
       "\n",
       "    .dataframe thead th {\n",
       "        text-align: right;\n",
       "    }\n",
       "</style>\n",
       "<table border=\"1\" class=\"dataframe\">\n",
       "  <thead>\n",
       "    <tr style=\"text-align: right;\">\n",
       "      <th></th>\n",
       "      <th>Status</th>\n",
       "      <th>Subject</th>\n",
       "      <th>Body</th>\n",
       "      <th>isThread</th>\n",
       "    </tr>\n",
       "  </thead>\n",
       "  <tbody>\n",
       "    <tr>\n",
       "      <th>0</th>\n",
       "      <td>ham</td>\n",
       "      <td>ena sales on hpl</td>\n",
       "      <td>just to update you on this project ' s status...</td>\n",
       "      <td>True</td>\n",
       "    </tr>\n",
       "    <tr>\n",
       "      <th>1</th>\n",
       "      <td>ham</td>\n",
       "      <td>98 - 6736 &amp; 98 - 9638 for 1997 ( ua 4 issues )</td>\n",
       "      <td>the above referenced meters need to be placed...</td>\n",
       "      <td>False</td>\n",
       "    </tr>\n",
       "    <tr>\n",
       "      <th>2</th>\n",
       "      <td>ham</td>\n",
       "      <td>hpl nominations for december 28 , 1999</td>\n",
       "      <td>( see attached file : hpll 228 . xls ) - hpll...</td>\n",
       "      <td>False</td>\n",
       "    </tr>\n",
       "    <tr>\n",
       "      <th>3</th>\n",
       "      <td>ham</td>\n",
       "      <td>revised nom - kcs resources</td>\n",
       "      <td>daren , it ' s in . bob - - - - - - - - - - -...</td>\n",
       "      <td>True</td>\n",
       "    </tr>\n",
       "    <tr>\n",
       "      <th>4</th>\n",
       "      <td>ham</td>\n",
       "      <td>new production - sitara deals needed</td>\n",
       "      <td>daren , fyi . bob - - - - - - - - - - - - - -...</td>\n",
       "      <td>True</td>\n",
       "    </tr>\n",
       "    <tr>\n",
       "      <th>...</th>\n",
       "      <td>...</td>\n",
       "      <td>...</td>\n",
       "      <td>...</td>\n",
       "      <td>...</td>\n",
       "    </tr>\n",
       "    <tr>\n",
       "      <th>11021</th>\n",
       "      <td>spam</td>\n",
       "      <td>update account information</td>\n",
       "      <td>important alert hello sir / madam , founded i...</td>\n",
       "      <td>False</td>\n",
       "    </tr>\n",
       "    <tr>\n",
       "      <th>11022</th>\n",
       "      <td>spam</td>\n",
       "      <td>real time leads - no brokers</td>\n",
       "      <td>your name : email address : telephone : compa...</td>\n",
       "      <td>False</td>\n",
       "    </tr>\n",
       "    <tr>\n",
       "      <th>11023</th>\n",
       "      <td>spam</td>\n",
       "      <td>save your money buy getting this thing here</td>\n",
       "      <td>you have not tried cialls yet ? than you cann...</td>\n",
       "      <td>False</td>\n",
       "    </tr>\n",
       "    <tr>\n",
       "      <th>11024</th>\n",
       "      <td>spam</td>\n",
       "      <td>secretly record all internet activity on any c...</td>\n",
       "      <td>find out who they are chatting / e - mailing ...</td>\n",
       "      <td>False</td>\n",
       "    </tr>\n",
       "    <tr>\n",
       "      <th>11025</th>\n",
       "      <td>spam</td>\n",
       "      <td>$ 14 . 95 per year domain names</td>\n",
       "      <td>affordable domain registration for everyone t...</td>\n",
       "      <td>False</td>\n",
       "    </tr>\n",
       "  </tbody>\n",
       "</table>\n",
       "<p>11026 rows × 4 columns</p>\n",
       "</div>"
      ],
      "text/plain": [
       "      Status                                            Subject  \\\n",
       "0        ham                                   ena sales on hpl   \n",
       "1        ham     98 - 6736 & 98 - 9638 for 1997 ( ua 4 issues )   \n",
       "2        ham             hpl nominations for december 28 , 1999   \n",
       "3        ham                        revised nom - kcs resources   \n",
       "4        ham               new production - sitara deals needed   \n",
       "...      ...                                                ...   \n",
       "11021   spam                         update account information   \n",
       "11022   spam                       real time leads - no brokers   \n",
       "11023   spam        save your money buy getting this thing here   \n",
       "11024   spam  secretly record all internet activity on any c...   \n",
       "11025   spam                    $ 14 . 95 per year domain names   \n",
       "\n",
       "                                                    Body  isThread  \n",
       "0       just to update you on this project ' s status...      True  \n",
       "1       the above referenced meters need to be placed...     False  \n",
       "2       ( see attached file : hpll 228 . xls ) - hpll...     False  \n",
       "3       daren , it ' s in . bob - - - - - - - - - - -...      True  \n",
       "4       daren , fyi . bob - - - - - - - - - - - - - -...      True  \n",
       "...                                                  ...       ...  \n",
       "11021   important alert hello sir / madam , founded i...     False  \n",
       "11022   your name : email address : telephone : compa...     False  \n",
       "11023   you have not tried cialls yet ? than you cann...     False  \n",
       "11024   find out who they are chatting / e - mailing ...     False  \n",
       "11025   affordable domain registration for everyone t...     False  \n",
       "\n",
       "[11026 rows x 4 columns]"
      ]
     },
     "execution_count": 11,
     "metadata": {},
     "output_type": "execute_result"
    }
   ],
   "source": [
    "df = pd.DataFrame(data_list, columns=['Status','Subject','Body','isThread'])\n",
    "df"
   ]
  },
  {
   "cell_type": "markdown",
   "metadata": {},
   "source": [
    "#### 3. Build a Naive Bayes classifier to classify whether emails are spam or not. ( 3 pts )\n",
    "---"
   ]
  },
  {
   "cell_type": "code",
   "execution_count": 12,
   "metadata": {},
   "outputs": [],
   "source": [
    "X = df['Body']\n",
    "Y = df['Status']\n",
    "\n"
   ]
  },
  {
   "cell_type": "code",
   "execution_count": 13,
   "metadata": {},
   "outputs": [],
   "source": [
    "vectorizer = TfidfVectorizer(stop_words='english')\n",
    "X = vectorizer.fit_transform(X) "
   ]
  },
  {
   "cell_type": "code",
   "execution_count": 14,
   "metadata": {},
   "outputs": [],
   "source": [
    "train_x, test_x, train_y, test_y = train_test_split(X, Y)"
   ]
  },
  {
   "cell_type": "code",
   "execution_count": 15,
   "metadata": {},
   "outputs": [
    {
     "data": {
      "text/plain": [
       "GaussianNB()"
      ]
     },
     "execution_count": 15,
     "metadata": {},
     "output_type": "execute_result"
    }
   ],
   "source": [
    "classifier = GaussianNB() # Assumes a Gaussian distribution for whether a message is spam\n",
    "classifier.fit(train_x.toarray(), train_y)"
   ]
  },
  {
   "cell_type": "markdown",
   "metadata": {},
   "source": [
    "#### 4. What is the longest ham email? ( 1 pt )\n",
    "---"
   ]
  },
  {
   "cell_type": "code",
   "execution_count": 16,
   "metadata": {},
   "outputs": [],
   "source": [
    "df_length = df\n",
    "# Generate a column with length of email body\n",
    "df_length['BodyLength'] = df_length['Body'].str.len()"
   ]
  },
  {
   "cell_type": "code",
   "execution_count": 17,
   "metadata": {},
   "outputs": [
    {
     "data": {
      "text/plain": [
       "Status                                                      ham\n",
       "Body           fyi news articles from indian press . - - - -...\n",
       "BodyLength                                                43754\n",
       "Name: 5549, dtype: object"
      ]
     },
     "execution_count": 17,
     "metadata": {},
     "output_type": "execute_result"
    }
   ],
   "source": [
    "# Get all rows where status is ham, then get max BodyLength using idxmax()\n",
    "df_ham = df_length.loc[(df_length.Status == 'ham'), ['Status','Body','BodyLength']]\n",
    "df_ham.loc[df_ham.BodyLength.idxmax()]"
   ]
  },
  {
   "cell_type": "markdown",
   "metadata": {},
   "source": [
    "#### 5. What is the accuracy of your model?( 1 pt )\n",
    "---\n"
   ]
  },
  {
   "cell_type": "code",
   "execution_count": 18,
   "metadata": {},
   "outputs": [
    {
     "name": "stdout",
     "output_type": "stream",
     "text": [
      "Accuracy: 92.89 percent (+/- 0.01)\n"
     ]
    },
    {
     "data": {
      "text/plain": [
       "array([0.92934783, 0.94384058, 0.92558984, 0.93647913, 0.9092559 ])"
      ]
     },
     "execution_count": 18,
     "metadata": {},
     "output_type": "execute_result"
    }
   ],
   "source": [
    "scores = cross_val_score(classifier, test_x.toarray(), test_y, cv=5)\n",
    "acc = scores.mean()\n",
    "\n",
    "print(\"Accuracy: %0.2f percent (+/- %0.2f)\" % (acc *100, scores.std()))\n",
    "scores"
   ]
  },
  {
   "cell_type": "markdown",
   "metadata": {},
   "source": [
    "#### 6. Include the Subject in the analysis of the emails, does the accuracy/performance of the model increase? (7 pts)\n",
    "---"
   ]
  },
  {
   "cell_type": "code",
   "execution_count": 19,
   "metadata": {},
   "outputs": [
    {
     "data": {
      "text/html": [
       "<div>\n",
       "<style scoped>\n",
       "    .dataframe tbody tr th:only-of-type {\n",
       "        vertical-align: middle;\n",
       "    }\n",
       "\n",
       "    .dataframe tbody tr th {\n",
       "        vertical-align: top;\n",
       "    }\n",
       "\n",
       "    .dataframe thead th {\n",
       "        text-align: right;\n",
       "    }\n",
       "</style>\n",
       "<table border=\"1\" class=\"dataframe\">\n",
       "  <thead>\n",
       "    <tr style=\"text-align: right;\">\n",
       "      <th></th>\n",
       "      <th>Status</th>\n",
       "      <th>isThread</th>\n",
       "      <th>BodyLength</th>\n",
       "      <th>SubjectBody</th>\n",
       "    </tr>\n",
       "  </thead>\n",
       "  <tbody>\n",
       "    <tr>\n",
       "      <th>0</th>\n",
       "      <td>ham</td>\n",
       "      <td>True</td>\n",
       "      <td>2572</td>\n",
       "      <td>ena sales on hpl just to update you on this pr...</td>\n",
       "    </tr>\n",
       "    <tr>\n",
       "      <th>1</th>\n",
       "      <td>ham</td>\n",
       "      <td>False</td>\n",
       "      <td>494</td>\n",
       "      <td>98 - 6736 &amp; 98 - 9638 for 1997 ( ua 4 issues )...</td>\n",
       "    </tr>\n",
       "    <tr>\n",
       "      <th>2</th>\n",
       "      <td>ham</td>\n",
       "      <td>False</td>\n",
       "      <td>56</td>\n",
       "      <td>hpl nominations for december 28 , 1999 ( see a...</td>\n",
       "    </tr>\n",
       "    <tr>\n",
       "      <th>3</th>\n",
       "      <td>ham</td>\n",
       "      <td>True</td>\n",
       "      <td>494</td>\n",
       "      <td>revised nom - kcs resources daren , it ' s in ...</td>\n",
       "    </tr>\n",
       "    <tr>\n",
       "      <th>4</th>\n",
       "      <td>ham</td>\n",
       "      <td>True</td>\n",
       "      <td>1346</td>\n",
       "      <td>new production - sitara deals needed daren , f...</td>\n",
       "    </tr>\n",
       "    <tr>\n",
       "      <th>...</th>\n",
       "      <td>...</td>\n",
       "      <td>...</td>\n",
       "      <td>...</td>\n",
       "      <td>...</td>\n",
       "    </tr>\n",
       "    <tr>\n",
       "      <th>11021</th>\n",
       "      <td>spam</td>\n",
       "      <td>False</td>\n",
       "      <td>1125</td>\n",
       "      <td>update account information important alert hel...</td>\n",
       "    </tr>\n",
       "    <tr>\n",
       "      <th>11022</th>\n",
       "      <td>spam</td>\n",
       "      <td>False</td>\n",
       "      <td>1186</td>\n",
       "      <td>real time leads - no brokers your name : email...</td>\n",
       "    </tr>\n",
       "    <tr>\n",
       "      <th>11023</th>\n",
       "      <td>spam</td>\n",
       "      <td>False</td>\n",
       "      <td>385</td>\n",
       "      <td>save your money buy getting this thing here yo...</td>\n",
       "    </tr>\n",
       "    <tr>\n",
       "      <th>11024</th>\n",
       "      <td>spam</td>\n",
       "      <td>False</td>\n",
       "      <td>400</td>\n",
       "      <td>secretly record all internet activity on any c...</td>\n",
       "    </tr>\n",
       "    <tr>\n",
       "      <th>11025</th>\n",
       "      <td>spam</td>\n",
       "      <td>False</td>\n",
       "      <td>1127</td>\n",
       "      <td>$ 14 . 95 per year domain names affordable dom...</td>\n",
       "    </tr>\n",
       "  </tbody>\n",
       "</table>\n",
       "<p>11026 rows × 4 columns</p>\n",
       "</div>"
      ],
      "text/plain": [
       "      Status  isThread  BodyLength  \\\n",
       "0        ham      True        2572   \n",
       "1        ham     False         494   \n",
       "2        ham     False          56   \n",
       "3        ham      True         494   \n",
       "4        ham      True        1346   \n",
       "...      ...       ...         ...   \n",
       "11021   spam     False        1125   \n",
       "11022   spam     False        1186   \n",
       "11023   spam     False         385   \n",
       "11024   spam     False         400   \n",
       "11025   spam     False        1127   \n",
       "\n",
       "                                             SubjectBody  \n",
       "0      ena sales on hpl just to update you on this pr...  \n",
       "1      98 - 6736 & 98 - 9638 for 1997 ( ua 4 issues )...  \n",
       "2      hpl nominations for december 28 , 1999 ( see a...  \n",
       "3      revised nom - kcs resources daren , it ' s in ...  \n",
       "4      new production - sitara deals needed daren , f...  \n",
       "...                                                  ...  \n",
       "11021  update account information important alert hel...  \n",
       "11022  real time leads - no brokers your name : email...  \n",
       "11023  save your money buy getting this thing here yo...  \n",
       "11024  secretly record all internet activity on any c...  \n",
       "11025  $ 14 . 95 per year domain names affordable dom...  \n",
       "\n",
       "[11026 rows x 4 columns]"
      ]
     },
     "execution_count": 19,
     "metadata": {},
     "output_type": "execute_result"
    }
   ],
   "source": [
    "# Concatenate body and subject\n",
    "df[\"SubjectBody\"] = df[\"Subject\"] + df[\"Body\"]\n",
    "df.drop(['Body','Subject'], axis = 1)"
   ]
  },
  {
   "cell_type": "code",
   "execution_count": 20,
   "metadata": {},
   "outputs": [],
   "source": [
    "X = df['SubjectBody']\n",
    "Y = df['Status']"
   ]
  },
  {
   "cell_type": "code",
   "execution_count": 21,
   "metadata": {},
   "outputs": [],
   "source": [
    "vectorizer = TfidfVectorizer(stop_words='english')\n",
    "X = vectorizer.fit_transform(X) "
   ]
  },
  {
   "cell_type": "code",
   "execution_count": 22,
   "metadata": {},
   "outputs": [],
   "source": [
    "train_x, test_x, train_y, test_y = train_test_split(X, Y)"
   ]
  },
  {
   "cell_type": "code",
   "execution_count": 23,
   "metadata": {},
   "outputs": [
    {
     "data": {
      "text/plain": [
       "GaussianNB()"
      ]
     },
     "execution_count": 23,
     "metadata": {},
     "output_type": "execute_result"
    }
   ],
   "source": [
    "classifier = GaussianNB() # Assumes a Gaussian distribution for whether a message is spam\n",
    "classifier.fit(train_x.toarray(), train_y)"
   ]
  },
  {
   "cell_type": "code",
   "execution_count": 24,
   "metadata": {},
   "outputs": [
    {
     "name": "stdout",
     "output_type": "stream",
     "text": [
      "Accuracy: 95.03 percent (+/- 0.01)\n"
     ]
    },
    {
     "data": {
      "text/plain": [
       "array([0.96376812, 0.9384058 , 0.95825771, 0.95099819, 0.94010889])"
      ]
     },
     "execution_count": 24,
     "metadata": {},
     "output_type": "execute_result"
    }
   ],
   "source": [
    "scores = cross_val_score(classifier, test_x.toarray(), test_y, cv=5)\n",
    "acc = scores.mean()\n",
    "\n",
    "print(\"Accuracy: %0.2f percent (+/- %0.2f)\" % (acc *100, scores.std()))\n",
    "scores"
   ]
  },
  {
   "cell_type": "code",
   "execution_count": null,
   "metadata": {},
   "outputs": [],
   "source": []
  }
 ],
 "metadata": {
  "kernelspec": {
   "display_name": "Python 3",
   "language": "python",
   "name": "python3"
  },
  "language_info": {
   "codemirror_mode": {
    "name": "ipython",
    "version": 3
   },
   "file_extension": ".py",
   "mimetype": "text/x-python",
   "name": "python",
   "nbconvert_exporter": "python",
   "pygments_lexer": "ipython3",
   "version": "3.9.1"
  }
 },
 "nbformat": 4,
 "nbformat_minor": 4
}
